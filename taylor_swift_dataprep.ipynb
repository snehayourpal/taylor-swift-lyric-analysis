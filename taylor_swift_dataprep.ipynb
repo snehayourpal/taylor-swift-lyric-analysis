{
 "cells": [
  {
   "cell_type": "code",
   "execution_count": 4,
   "metadata": {},
   "outputs": [
    {
     "name": "stdout",
     "output_type": "stream",
     "text": [
      "<class 'pandas.core.frame.DataFrame'>\n",
      "Int64Index: 8358 entries, 0 to 944\n",
      "Data columns (total 5 columns):\n",
      " #   Column       Non-Null Count  Dtype \n",
      "---  ------       --------------  ----- \n",
      " 0   album_name   8358 non-null   object\n",
      " 1   track_title  8358 non-null   object\n",
      " 2   track_n      8358 non-null   int64 \n",
      " 3   lyric        8358 non-null   object\n",
      " 4   line         8358 non-null   int64 \n",
      "dtypes: int64(2), object(3)\n",
      "memory usage: 391.8+ KB\n",
      "None\n"
     ]
    }
   ],
   "source": [
    "import pandas as pd\n",
    "import os\n",
    "#create an empty dataframe\n",
    "df = pd.DataFrame()\n",
    "\n",
    "#use the os package to walk the lyrics file directory\n",
    "for filename in os.walk(\"lyrics/\"):\n",
    "    #it returns a tuple, we need an array, but only the 3rd item\n",
    "    filelist = list(filename)[2]\n",
    "\n",
    "#concatenate all of the csvs into one file\n",
    "for filename in filelist:\n",
    "    df_temp = pd.read_csv(\"lyrics/\"+filename)\n",
    "    df = pd.concat([df,df_temp], axis = 0)\n",
    "print(df.info())\n",
    "\n",
    "#write all files into one master file\n",
    "df.to_csv('taylor_swift_lyrics_2006-2020_all.csv', index = False)"
   ]
  },
  {
   "cell_type": "code",
   "execution_count": 5,
   "metadata": {},
   "outputs": [],
   "source": [
    "lyrics = pd.read_csv('taylor_swift_lyrics_2006-2020_all.csv')"
   ]
  },
  {
   "cell_type": "code",
   "execution_count": 6,
   "metadata": {},
   "outputs": [
    {
     "data": {
      "text/html": [
       "<div>\n",
       "<style scoped>\n",
       "    .dataframe tbody tr th:only-of-type {\n",
       "        vertical-align: middle;\n",
       "    }\n",
       "\n",
       "    .dataframe tbody tr th {\n",
       "        vertical-align: top;\n",
       "    }\n",
       "\n",
       "    .dataframe thead th {\n",
       "        text-align: right;\n",
       "    }\n",
       "</style>\n",
       "<table border=\"1\" class=\"dataframe\">\n",
       "  <thead>\n",
       "    <tr style=\"text-align: right;\">\n",
       "      <th></th>\n",
       "      <th>album_name</th>\n",
       "      <th>track_title</th>\n",
       "      <th>track_n</th>\n",
       "      <th>lyric</th>\n",
       "      <th>line</th>\n",
       "      <th>album_year</th>\n",
       "    </tr>\n",
       "  </thead>\n",
       "  <tbody>\n",
       "    <tr>\n",
       "      <th>0</th>\n",
       "      <td>Fearless (Taylor’s Version)</td>\n",
       "      <td>Fearless (Taylor’s Version)</td>\n",
       "      <td>1</td>\n",
       "      <td>There's something 'bout the way</td>\n",
       "      <td>1</td>\n",
       "      <td>2008</td>\n",
       "    </tr>\n",
       "    <tr>\n",
       "      <th>1</th>\n",
       "      <td>Fearless (Taylor’s Version)</td>\n",
       "      <td>Fearless (Taylor’s Version)</td>\n",
       "      <td>1</td>\n",
       "      <td>The street looks when it's just rained</td>\n",
       "      <td>2</td>\n",
       "      <td>2008</td>\n",
       "    </tr>\n",
       "    <tr>\n",
       "      <th>2</th>\n",
       "      <td>Fearless (Taylor’s Version)</td>\n",
       "      <td>Fearless (Taylor’s Version)</td>\n",
       "      <td>1</td>\n",
       "      <td>There's a glow off the pavement, you walk me t...</td>\n",
       "      <td>3</td>\n",
       "      <td>2008</td>\n",
       "    </tr>\n",
       "    <tr>\n",
       "      <th>3</th>\n",
       "      <td>Fearless (Taylor’s Version)</td>\n",
       "      <td>Fearless (Taylor’s Version)</td>\n",
       "      <td>1</td>\n",
       "      <td>And you know I wanna ask you to dance right there</td>\n",
       "      <td>4</td>\n",
       "      <td>2008</td>\n",
       "    </tr>\n",
       "    <tr>\n",
       "      <th>4</th>\n",
       "      <td>Fearless (Taylor’s Version)</td>\n",
       "      <td>Fearless (Taylor’s Version)</td>\n",
       "      <td>1</td>\n",
       "      <td>In the middle of the parking lot, yeah</td>\n",
       "      <td>5</td>\n",
       "      <td>2008</td>\n",
       "    </tr>\n",
       "  </tbody>\n",
       "</table>\n",
       "</div>"
      ],
      "text/plain": [
       "                    album_name                  track_title  track_n  \\\n",
       "0  Fearless (Taylor’s Version)  Fearless (Taylor’s Version)        1   \n",
       "1  Fearless (Taylor’s Version)  Fearless (Taylor’s Version)        1   \n",
       "2  Fearless (Taylor’s Version)  Fearless (Taylor’s Version)        1   \n",
       "3  Fearless (Taylor’s Version)  Fearless (Taylor’s Version)        1   \n",
       "4  Fearless (Taylor’s Version)  Fearless (Taylor’s Version)        1   \n",
       "\n",
       "                                               lyric  line album_year  \n",
       "0                    There's something 'bout the way     1       2008  \n",
       "1             The street looks when it's just rained     2       2008  \n",
       "2  There's a glow off the pavement, you walk me t...     3       2008  \n",
       "3  And you know I wanna ask you to dance right there     4       2008  \n",
       "4             In the middle of the parking lot, yeah     5       2008  "
      ]
     },
     "execution_count": 6,
     "metadata": {},
     "output_type": "execute_result"
    }
   ],
   "source": [
    "# this is a function to map the name of the album to the year it was released\n",
    "def album_release(row):  \n",
    "    if row['album_name'] == 'Taylor Swift':\n",
    "        return '2006'\n",
    "    elif row['album_name'] == 'Fearless (Taylor’s Version)':\n",
    "        return '2008'\n",
    "    elif row['album_name'] == 'Speak Now (Deluxe)':\n",
    "        return '2010'\n",
    "    elif row['album_name'] == 'Red (Deluxe Edition)':\n",
    "        return '2012'\n",
    "    elif row['album_name'] == '1989 (Deluxe)':\n",
    "        return '2014'\n",
    "    elif row['album_name'] == 'reputation':\n",
    "        return '2017'\n",
    "    elif row['album_name'] == 'Lover':\n",
    "        return '2019'\n",
    "    elif row['album_name'] == 'evermore (deluxe version)':\n",
    "        return '2020'\n",
    "    #ok, we know folklore was actually released in Dec 2020, but this will make our analysis easier\n",
    "    elif row['album_name'] == 'folklore (deluxe version)':\n",
    "        return '2021'\n",
    "    \n",
    "    return 'No Date'\n",
    "\n",
    "# apply the function to the album\n",
    "lyrics['album_year'] = lyrics.apply(lambda row: album_release(row), axis=1)\n",
    "\n",
    "# inspect the first few rows of the DataFrame\n",
    "lyrics.head()"
   ]
  },
  {
   "cell_type": "code",
   "execution_count": 12,
   "metadata": {},
   "outputs": [],
   "source": [
    "album_year = lyrics[['album_name', 'album_year']]\n",
    "album_year = album_year.drop_duplicates()"
   ]
  },
  {
   "cell_type": "code",
   "execution_count": 13,
   "metadata": {},
   "outputs": [],
   "source": [
    "album_year.to_csv('album_year_name.csv')"
   ]
  },
  {
   "cell_type": "code",
   "execution_count": null,
   "metadata": {},
   "outputs": [],
   "source": []
  }
 ],
 "metadata": {
  "kernelspec": {
   "display_name": "Python 3",
   "language": "python",
   "name": "python3"
  },
  "language_info": {
   "codemirror_mode": {
    "name": "ipython",
    "version": 3
   },
   "file_extension": ".py",
   "mimetype": "text/x-python",
   "name": "python",
   "nbconvert_exporter": "python",
   "pygments_lexer": "ipython3",
   "version": "3.8.5"
  }
 },
 "nbformat": 4,
 "nbformat_minor": 4
}
